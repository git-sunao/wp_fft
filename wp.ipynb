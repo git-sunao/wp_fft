{
 "cells": [
  {
   "cell_type": "code",
   "execution_count": 2,
   "metadata": {},
   "outputs": [
    {
     "name": "stdout",
     "output_type": "stream",
     "text": [
      "Populating the interactive namespace from numpy and matplotlib\n"
     ]
    }
   ],
   "source": [
    "%load_ext autoreload\n",
    "%autoreload 2\n",
    "%pylab inline"
   ]
  },
  {
   "cell_type": "code",
   "execution_count": 3,
   "metadata": {},
   "outputs": [],
   "source": [
    "import numpy as np\n",
    "import matplotlib.pyplot as plt\n",
    "import fftlog\n",
    "import twobessel"
   ]
  },
  {
   "cell_type": "markdown",
   "metadata": {},
   "source": [
    "## Ingredients to boost computational speed\n",
    "What we need to evaluate fast are Eqs.(55), numerator of (48) of https://arxiv.org/abs/1206.6890v1.\n",
    "\n",
    "$$\n",
    "\\begin{align}\n",
    "    J_{n}(r) = \\frac{1}{r^n}\\int_0^r\\xi_{\\rm gg}^{\\rm lin}(y)y^{n-1}{\\rm d}y\n",
    "\\end{align}\n",
    "$$\n",
    "and \n",
    "$$\n",
    "\\begin{align}\n",
    "    n_{48} = \\int_0^{r_{\\rm max}} \\xi_{\\rm gg}^{\\rm lin}(r_{\\rm p}, r_{\\Pi}) {\\rm d}r_{\\Pi},\n",
    "\\end{align}\n",
    "$$\n",
    "where\n",
    "$$\n",
    "\\begin{align}\n",
    "    \\xi_{\\rm gg}^{\\rm lin}(r_{\\rm p}, r_{\\Pi}) = \\sum_{l=0}^{2} \\xi_{2l}(s) {\\cal P}_{2l}(\\mu)\n",
    "\\end{align}\n",
    "$$\n",
    "Here $s=\\sqrt{r_{\\rm p}^2+r_{\\Pi}^2}$ and $\\mu=r_\\Pi/s$."
   ]
  },
  {
   "cell_type": "code",
   "execution_count": 4,
   "metadata": {},
   "outputs": [
    {
     "data": {
      "image/png": "[encoded data removed]",
      "text/plain": [
       "<Figure size 432x288 with 1 Axes>"
      ]
     },
     "metadata": {
      "needs_background": "light"
     },
     "output_type": "display_data"
    }
   ],
   "source": [
    "r, xi = np.loadtxt('xi.txt', unpack=True)\n",
    "plt.figure()\n",
    "plt.loglog(r, xi)\n",
    "plt.loglog(r,-xi)\n",
    "plt.show()"
   ]
  },
  {
   "cell_type": "markdown",
   "metadata": {},
   "source": [
    "### $J_n$\n",
    "Using FFTLog of $\\xi_{\\rm gg}^{\\rm lin}(r)r^3$\n",
    "$$\n",
    "\\begin{align}\n",
    "    \\xi_{\\rm gg}^{\\rm lin}(y)y^3 = \\frac{1}{N}\\sum_{m=-N/2}^{N/2} c_m y_0^\\nu \\left(\\frac{y}{y_0}\\right)^{\\nu+i\\eta_m},\n",
    "\\end{align}\n",
    "$$\n",
    "where $\\eta_m=2\\pi m/N\\Delta y$, we can evaluate $J_n$ as \n",
    "$$\n",
    "\\begin{align}\n",
    "    J_n(r) \n",
    "    &= \\frac{1}{N}\\sum_{m=-N/2}^{N/2} c_m y_0^{-i\\eta_m} \\frac{1}{r^n}\\int_0^r{\\rm d}y~y^{n-1-3+\\nu+i\\eta_m} \\\\\n",
    "    &= \\frac{1}{N}\\sum_{m=-N/2}^{N/2} \\frac{c_m}{n+\\nu-3+i\\eta_m} y_0^{-i\\eta_m} r^{\\nu-3+i\\eta_m}\n",
    "\\end{align}\n",
    "$$\n",
    "Hence\n",
    "$$\n",
    "\\begin{align}\n",
    "    J_n(r_i) = \n",
    "    &= r_i^{\\nu-3} {\\rm iFFTLog}\\left[\\frac{c_m^*}{n+\\nu-3-i\\eta_m} (y_0r_0)^{i\\eta_m} \\right]\n",
    "\\end{align}\n",
    "$$"
   ]
  },
  {
   "cell_type": "code",
   "execution_count": 10,
   "metadata": {},
   "outputs": [],
   "source": [
    "def Jn_direct(n, r, xi):\n",
    "    dlnr = np.log(r[1]/r[0])\n",
    "    integr = xi*r**(n-1)\n",
    "    ans = np.array([ np.sum( integr[r<_r])*dlnr for _r in r]) / r**n\n",
    "    return ans"
   ]
  },
  {
   "cell_type": "code",
   "execution_count": 19,
   "metadata": {},
   "outputs": [
    {
     "name": "stdout",
     "output_type": "stream",
     "text": [
      "CPU times: user 9.37 ms, sys: 111 µs, total: 9.48 ms\n",
      "Wall time: 9.1 ms\n"
     ]
    }
   ],
   "source": [
    "%time Jn_d = Jn_direct(3, r, xi)"
   ]
  },
  {
   "cell_type": "code",
   "execution_count": 58,
   "metadata": {},
   "outputs": [],
   "source": [
    "n = 3\n",
    "f = fftlog.fftlog(r, xi*r**3, nu=1.01)#, N_extrap_low=512, N_extrap_high=512, c_window_width=0.25)\n",
    "\n",
    "r_fft = f.x\n",
    "h_m = f.c_m / (n+f.nu-3+1j*f.eta_m) * (f.x[0]*r_fft[0])**(-1j*f.eta_m)\n",
    "Jn = fftlog.irfft(np.conj(h_m)) * r_fft**(f.nu-3)\n",
    "#h_m = f.c_m * (f.x[0]*r_fft[0])**(-1j*f.eta_m)\n",
    "#Jn = fftlog.irfft(np.conj(h_m)) * r_fft**(f.nu-3)\n",
    "#Jn = Jn[::-1"
   ]
  },
  {
   "cell_type": "code",
   "execution_count": 59,
   "metadata": {},
   "outputs": [
    {
     "data": {
      "image/png": "[encoded data removed]",
      "text/plain": [
       "<Figure size 432x288 with 1 Axes>"
      ]
     },
     "metadata": {
      "needs_background": "light"
     },
     "output_type": "display_data"
    }
   ],
   "source": [
    "plt.figure()\n",
    "plt.loglog(r_fft, Jn)\n",
    "plt.loglog(r, Jn_d)\n",
    "plt.loglog(r, xi)\n",
    "plt.show()"
   ]
  },
  {
   "cell_type": "markdown",
   "metadata": {},
   "source": [
    "### $n_{48}$\n",
    "Using 2DFFTLog of $\\xi_{\\rm gg}^{\\rm lin}(r_{\\rm p}, r_\\Pi)$,\n",
    "$$\n",
    "\\begin{align}\n",
    "    \\xi_{\\rm gg}^{\\rm lin}(r_{\\rm p}, r_\\Pi) = \\frac{1}{N_1N_2}\\sum_{m=-N_1/2}^{N_1/2} \\sum_{n=-N_2/2}^{N_2/2} c_{mn} r_{\\rm p0}^\\nu\\left(\\frac{r_{\\rm p}}{r_{\\rm p0}}\\right)^{\\nu_1+i\\eta_m} r_{\\Pi0}^\\nu\\left(\\frac{r_{\\Pi}}{r_{\\Pi0}}\\right)^{\\nu_2+i\\eta_n} \n",
    "    \\equiv r_{\\rm p}^{\\nu_1} r_\\Pi^{\\nu_2} {\\rm 2DFFTLog}[c_{mn}r_{\\rm p0}^{-i\\eta_m}r_\\Pi^{-i\\eta_n}](r_{\\rm p}, r_{\\rm max})\n",
    "\\end{align}\n",
    "$$\n",
    "we can evaluate $n_{48}$ as \n",
    "$$\n",
    "\\begin{align}\n",
    "    n_{48} \n",
    "    &= \\frac{1}{N_1N_2}\\sum_{m=-N_1/2}^{N_1/2} \\sum_{n=-N_2/2}^{N_2/2} c_{mn} r_{\\rm p0}^\\nu\\left(\\frac{r_{\\rm p}}{r_{\\rm p0}}\\right)^{\\nu_1+i\\eta_m} \n",
    "    r_{\\Pi0}^{-i\\eta_n}\n",
    "    \\int_0^{r_{\\rm max}} {\\rm d}r_\\Pi r_{\\Pi}^{\\nu_2+i\\eta_n} \\\\\n",
    "    &= \\frac{1}{N_1N_2}\\sum_{m=-N_1/2}^{N_1/2} \\sum_{n=-N_2/2}^{N_2/2} \\frac{c_{mn}}{\\nu_2+i\\eta_n+1} r_{\\rm p0}^\\nu\\left(\\frac{r_{\\rm p}}{r_{\\rm p0}}\\right)^{\\nu_1+i\\eta_m} \n",
    "    r_{\\Pi0}^{-i\\eta_n} r_{\\rm max}^{\\nu_2+1+i\\eta_n} \\\\\n",
    "    &= {\\rm i2DFFTLog}\\left[\\frac{c_{mn}^*}{\\nu_2+1-i\\eta_n}\\right](r_{\\rm p}, r_{\\rm max})\n",
    "\\end{align}\n",
    "$$"
   ]
  },
  {
   "cell_type": "markdown",
   "metadata": {},
   "source": [
    "### $n_{48}$\n",
    "Using 2DFFTLog of $\\xi_{\\rm gg}^{\\rm lin}(r_{\\rm p}, r_\\Pi)$,\n",
    "$$\n",
    "\\begin{align}\n",
    "    \\xi_{\\rm gg}^{\\rm lin}(r_{\\rm p}, r_\\Pi) = \\frac{1}{N_1N_2}\\sum_{m=-N_1/2}^{N_1/2} \\sum_{n=-N_2/2}^{N_2/2} c_{mn} r_{\\rm p0}^\\nu\\left(\\frac{r_{\\rm p}}{r_{\\rm p0}}\\right)^{\\nu_1+i\\eta_m} r_{\\Pi0}^\\nu\\left(\\frac{r_{\\Pi}}{r_{\\Pi0}}\\right)^{\\nu_2+i\\eta_n} \n",
    "    \\equiv r_{\\rm p}^{\\nu_1} r_\\Pi^{\\nu_2} {\\rm 2DFFTLog}[c_{mn}r_{\\rm p0}^{-i\\eta_m}r_\\Pi^{-i\\eta_n}](r_{\\rm p}, r_{\\rm max})\n",
    "\\end{align}\n",
    "$$\n",
    "we can evaluate $n_{48}$ as \n",
    "$$\n",
    "\\begin{align}\n",
    "    n_{48} \n",
    "    &= \\frac{1}{N_1N_2}\\sum_{m=-N_1/2}^{N_1/2} \\sum_{n=-N_2/2}^{N_2/2} c_{mn} r_{\\rm p0}^\\nu\\left(\\frac{r_{\\rm p}}{r_{\\rm p0}}\\right)^{\\nu_1+i\\eta_m} \n",
    "    r_{\\Pi0}^{-i\\eta_n}\n",
    "    \\int_0^{r_{\\rm max}} {\\rm d}r_\\Pi r_{\\Pi}^{\\nu_2+i\\eta_n} \\\\\n",
    "    &= \\frac{1}{N_1N_2}\\sum_{m=-N_1/2}^{N_1/2} \\sum_{n=-N_2/2}^{N_2/2} \\frac{c_{mn}}{\\nu_2+i\\eta_n+1} r_{\\rm p0}^\\nu\\left(\\frac{r_{\\rm p}}{r_{\\rm p0}}\\right)^{\\nu_1+i\\eta_m} \n",
    "    r_{\\Pi0}^{-i\\eta_n} r_{\\rm max}^{\\nu_2+1+i\\eta_n} \\\\\n",
    "    &= r_{\\rm p}^{\\nu_1} r_{\\rm max}^{\\nu_2+1} {\\rm i2DFFTLog}\\left[\\frac{c_{mn}^*}{\\nu_2+1-i\\eta_n} r_{\\rm p0}^{i\\eta_m} r_{\\Pi0}^{i\\eta_n} \\right](r_{\\rm p}, r_{\\rm max})\n",
    "\\end{align}\n",
    "$$"
   ]
  },
  {
   "cell_type": "code",
   "execution_count": null,
   "metadata": {},
   "outputs": [],
   "source": []
  },
  {
   "cell_type": "code",
   "execution_count": null,
   "metadata": {},
   "outputs": [],
   "source": []
  }
 ],
 "metadata": {
  "kernelspec": {
   "display_name": "Python 3",
   "language": "python",
   "name": "python3"
  },
  "language_info": {
   "codemirror_mode": {
    "name": "ipython",
    "version": 3
   },
   "file_extension": ".py",
   "mimetype": "text/x-python",
   "name": "python",
   "nbconvert_exporter": "python",
   "pygments_lexer": "ipython3",
   "version": "3.8.5"
  }
 },
 "nbformat": 4,
 "nbformat_minor": 4
}
